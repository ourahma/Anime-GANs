{
 "cells": [
  {
   "cell_type": "markdown",
   "id": "0852fd31",
   "metadata": {},
   "source": [
    "# Anime DCGAN"
   ]
  },
  {
   "cell_type": "markdown",
   "id": "88ba3092",
   "metadata": {},
   "source": [
    "Un modele DCGAN qui va générer des nouveayx caractères d'anime."
   ]
  },
  {
   "cell_type": "markdown",
   "id": "362e2591",
   "metadata": {},
   "source": []
  }
 ],
 "metadata": {
  "kernelspec": {
   "display_name": "base",
   "language": "python",
   "name": "python3"
  },
  "language_info": {
   "name": "python",
   "version": "3.12.7"
  }
 },
 "nbformat": 4,
 "nbformat_minor": 5
}
